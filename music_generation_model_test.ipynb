{
  "cells": [
    {
      "cell_type": "markdown",
      "metadata": {
        "id": "view-in-github",
        "colab_type": "text"
      },
      "source": [
        "<a href=\"https://colab.research.google.com/github/lahiruC22/eco-melody/blob/model-testing/music_generation_model_test.ipynb\" target=\"_parent\"><img src=\"https://colab.research.google.com/assets/colab-badge.svg\" alt=\"Open In Colab\"/></a>"
      ]
    },
    {
      "cell_type": "markdown",
      "metadata": {
        "id": "y7uN38UYi5g2"
      },
      "source": [
        "### Magenta's DDSP Model\n",
        "The first music generation model we are trying to use is Magenta's DDSp Model. We can setup the Magenta's DDSP model as follows."
      ]
    },
    {
      "cell_type": "code",
      "execution_count": null,
      "metadata": {
        "id": "FhNbvWrNrfmW"
      },
      "outputs": [],
      "source": [
        "!python --version"
      ]
    },
    {
      "cell_type": "code",
      "execution_count": null,
      "metadata": {
        "id": "PdlCXLuGtYxr"
      },
      "outputs": [],
      "source": [
        "# Create a virtual environment\n",
        "!apt install python3.10-venv\n",
        "!python -m venv myenv\n",
        "!source myenv/bin/activate"
      ]
    },
    {
      "cell_type": "code",
      "execution_count": null,
      "metadata": {
        "id": "GqwlktAzragl"
      },
      "outputs": [],
      "source": [
        "# Install ddsp\n",
        "!pip install -qU ddsp"
      ]
    },
    {
      "cell_type": "code",
      "source": [
        "# Check the tensorflow version\n",
        "import tensorflow as tf\n",
        "print(tf.__version__)\n",
        "\n",
        "# Check the tensorflow probability\n",
        "import tensorflow_probability as tfp\n",
        "print(tfp.__version__)"
      ],
      "metadata": {
        "id": "97xQUtLf_lff"
      },
      "execution_count": null,
      "outputs": []
    },
    {
      "cell_type": "code",
      "source": [
        "# Uninstall the version conflict tensorflow-probability\n",
        "!pip uninstall -y tensorflow-probability"
      ],
      "metadata": {
        "id": "U4bnT_oqBtWW"
      },
      "execution_count": null,
      "outputs": []
    },
    {
      "cell_type": "code",
      "source": [
        "# Install the correct tensorflow-probability\n",
        "!pip install tensorflow-probability==0.19"
      ],
      "metadata": {
        "id": "YZpXdnH5DZrJ"
      },
      "execution_count": null,
      "outputs": []
    },
    {
      "cell_type": "markdown",
      "source": [
        "Now we need to import all the necessary libraries to work with DDSP"
      ],
      "metadata": {
        "id": "jrEfjODjHkSD"
      }
    },
    {
      "cell_type": "code",
      "source": [
        "import copy\n",
        "import os\n",
        "import time\n",
        "\n",
        "import crepe\n",
        "import ddsp\n",
        "import ddsp.training\n",
        "from ddsp.colab.colab_utils import (\n",
        "    auto_tune, get_tuning_factor, download,play, record, specplot, upload,\n",
        "    DEFAULT_SAMPLE_RATE)\n",
        "import gin\n",
        "from google.colab import files\n",
        "import librosa\n",
        "import matplotlib.pyplot as plt\n",
        "import numpy as np\n",
        "import tensorflow.compat.v2 as tf\n",
        "import tensorflow_datasets as tfds\n",
        "import gin\n",
        "from google.colab import files\n",
        "\n",
        "# Helper functions\n",
        "sample_rate = DEFAULT_SAMPLE_RATE"
      ],
      "metadata": {
        "id": "wJIU1HhPHxIS"
      },
      "execution_count": 20,
      "outputs": []
    },
    {
      "cell_type": "markdown",
      "source": [
        "### Uploading the audio"
      ],
      "metadata": {
        "id": "OkYL1SpsMR1_"
      }
    },
    {
      "cell_type": "code",
      "source": [
        "# Load audio samples\n",
        "filenames, audios = upload()\n",
        "audio = audios[0]\n",
        "if len(audio.shape) == 1:\n",
        "  audio = audio[np.newaxis, :]\n",
        "print(\"\\nExtracting audio features\")\n",
        "\n",
        "# Plot\n",
        "specplot(audio)\n",
        "play(audio)"
      ],
      "metadata": {
        "id": "kNu4AYzrMEPY"
      },
      "execution_count": null,
      "outputs": []
    }
  ],
  "metadata": {
    "colab": {
      "provenance": [],
      "mount_file_id": "1ChXvifmIWqY8MeLFJWPJhtqLPvYdjGEl",
      "authorship_tag": "ABX9TyMhalSY3/B3SCEaaLRe6YkL",
      "include_colab_link": true
    },
    "kernelspec": {
      "display_name": "Python 3",
      "name": "python3"
    },
    "language_info": {
      "name": "python"
    }
  },
  "nbformat": 4,
  "nbformat_minor": 0
}