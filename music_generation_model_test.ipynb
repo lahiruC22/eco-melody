{
  "nbformat": 4,
  "nbformat_minor": 0,
  "metadata": {
    "colab": {
      "provenance": [],
      "gpuType": "T4",
      "mount_file_id": "1ChXvifmIWqY8MeLFJWPJhtqLPvYdjGEl",
      "authorship_tag": "ABX9TyPYmAjBrxjsbTLWQP/2lM6e",
      "include_colab_link": true
    },
    "kernelspec": {
      "name": "python3",
      "display_name": "Python 3"
    },
    "language_info": {
      "name": "python"
    },
    "accelerator": "GPU"
  },
  "cells": [
    {
      "cell_type": "markdown",
      "metadata": {
        "id": "view-in-github",
        "colab_type": "text"
      },
      "source": [
        "<a href=\"https://colab.research.google.com/github/lahiruC22/eco-melody/blob/model-testing/music_generation_model_test.ipynb\" target=\"_parent\"><img src=\"https://colab.research.google.com/assets/colab-badge.svg\" alt=\"Open In Colab\"/></a>"
      ]
    },
    {
      "cell_type": "markdown",
      "source": [
        "### Magenta's DDSP Model\n",
        "The first music generation model we are trying to use is Magenta's DDSp Model. We can setup the Magenta's NSynth model as follows."
      ],
      "metadata": {
        "id": "y7uN38UYi5g2"
      }
    },
    {
      "cell_type": "code",
      "source": [
        "# Clear cache and dependecies for clean install\n",
        "!apt-get -y purge python3-numpy\n",
        "!pip cache purge"
      ],
      "metadata": {
        "colab": {
          "base_uri": "https://localhost:8080/"
        },
        "id": "KChp91NSIOla",
        "outputId": "6c8a9330-0540-4505-a7bf-c6c32d03582c"
      },
      "execution_count": 1,
      "outputs": [
        {
          "output_type": "stream",
          "name": "stdout",
          "text": [
            "Reading package lists... Done\n",
            "Building dependency tree... Done\n",
            "Reading state information... Done\n",
            "Package 'python3-numpy' is not installed, so not removed\n",
            "0 upgraded, 0 newly installed, 0 to remove and 49 not upgraded.\n",
            "\u001b[33mWARNING: No matching packages\u001b[0m\u001b[33m\n",
            "\u001b[0mFiles removed: 0\n"
          ]
        }
      ]
    },
    {
      "cell_type": "code",
      "source": [
        "# ddsp uses the older packages\n",
        "# This lead to dependency conflicts.\n",
        "# Run the following to fix that\n",
        "\n",
        "!pip uninstall -y numpy tensorflow protobuf"
      ],
      "metadata": {
        "id": "8EhVjdmJKVyI"
      },
      "execution_count": null,
      "outputs": []
    },
    {
      "cell_type": "code",
      "source": [
        "# Upgrade package manager\n",
        "!pip install --upgrade pip"
      ],
      "metadata": {
        "id": "pvpdIrwkIcNT"
      },
      "execution_count": null,
      "outputs": []
    },
    {
      "cell_type": "code",
      "source": [
        "print(\"Installing the DDSP model...\")\n",
        "!pip install ddsp --no-deps"
      ],
      "metadata": {
        "id": "Yg4n63M4aNXJ"
      },
      "execution_count": null,
      "outputs": []
    },
    {
      "cell_type": "code",
      "source": [
        "# create a requirements.txt\n",
        "!echo \"numpy<1.24\" > requirements.txt\n",
        "!echo \"tensorflow<=2.11\" >> requirements.txt\n",
        "!echo \"protobuf<=3.20\" >> requirements.txt\n",
        "!echo \"librosa<=0.10\" >> requirements.txt\n",
        "!echo \"scipy<=1.10.1\" >> requirements.txt\n",
        "!echo \"absl-py\" >> requirements.txt\n",
        "!echo \"apache-beam\" >> requirements.txt\n",
        "!echo \"cloudml-hypertune<=0.1.0.dev6\" >> requirements.txt\n",
        "!echo \"crepe<=0.0.12\" >> requirements.txt\n",
        "!echo \"dill<=0.3.4\" >> requirements.txt\n",
        "!echo \"future\" >> requirements.txt\n",
        "!echo \"gin-config>=0.3.0\" >> requirements.txt\n",
        "!echo \"google-cloud-storage\" >> requirements.txt\n",
        "!echo \"hmmlearn<=0.2.7\" >> requirements.txt\n",
        "!echo \"pydub<=0.25.1\" >> requirements.txt\n",
        "!echo \"mir_eval<=0.7\" >> requirements.txt\n",
        "!echo \"note_seq<0.0.4\" >> requirements.txt\n",
        "!echo \"six\" >> requirements.txt\n",
        "!echo \"tensorflowjs<3.19\" >> requirements.txt\n",
        "!echo \"tensorflow-probability<=0.19\" >> requirements.txt\n",
        "!echo \"tensorflow-datasets<=4.9\" >> requirements.txt\n",
        "!echo \"tflite_support<=0.1\" >> requirements.txt"
      ],
      "metadata": {
        "id": "6bhqmp91XT5b"
      },
      "execution_count": null,
      "outputs": []
    },
    {
      "cell_type": "code",
      "source": [
        "# Install the dependencies\n",
        "!pip install -r requirements.txt"
      ],
      "metadata": {
        "id": "d-qszhIpX3UZ"
      },
      "execution_count": null,
      "outputs": []
    }
  ]
}